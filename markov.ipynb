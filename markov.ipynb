{
 "cells": [
  {
   "cell_type": "markdown",
   "metadata": {},
   "source": [
    "# Modelling Ecommerce User Journey Using Markov Chain\n"
   ]
  },
  {
   "cell_type": "markdown",
   "metadata": {},
   "source": [
    "This notebook is purposely made for code illustration"
   ]
  },
  {
   "cell_type": "markdown",
   "metadata": {},
   "source": [
    "## Import Library"
   ]
  },
  {
   "cell_type": "code",
   "execution_count": 1,
   "metadata": {},
   "outputs": [],
   "source": [
    "import numpy as np\n",
    "import pandas as pd\n",
    "\n",
    "np.set_printoptions(suppress=True)\n",
    "%load_ext autoreload\n",
    "%autoreload 2"
   ]
  },
  {
   "cell_type": "code",
   "execution_count": 2,
   "metadata": {},
   "outputs": [],
   "source": [
    "DEBUG = False\n",
    "SEED = 1234\n",
    "RANDOM_LEVEL = 0.5"
   ]
  },
  {
   "cell_type": "markdown",
   "metadata": {},
   "source": [
    "User Defined Function"
   ]
  },
  {
   "cell_type": "code",
   "execution_count": 3,
   "metadata": {},
   "outputs": [],
   "source": [
    "def classify(str):\n",
    "    \"\"\"This is a function to classify the page URLs into 4 types\"\"\"\n",
    "    if \"/harga/\" in str:\n",
    "        type = \"PDP\"\n",
    "    elif \"/search/\" in str:\n",
    "        type = \"Search Page\"\n",
    "    elif \"/checkout/\" in str:\n",
    "        type = \"Checkout Page\"\n",
    "    else:\n",
    "        type = \"PLP\"\n",
    "    return type\n",
    "\n",
    "\n",
    "def clean(data, str):\n",
    "    \"\"\"This is a function to clean landing & exit dataframe \"\"\"\n",
    "    if DEBUG:\n",
    "        data = data.sample(10, random_state=SEED)\n",
    "    else:\n",
    "        data = randomize(data)\n",
    "    col_name = str.title() + \" Page\"\n",
    "    data = data.assign(page_type=lambda df: df[col_name].map(\n",
    "        lambda pg: classify(pg))).iloc[:, [2, 1]]\n",
    "    data[\"Pageviews\"] = data.groupby([\"page_type\"])[\n",
    "        \"Pageviews\"].transform(\"sum\")\n",
    "    return data.drop_duplicates(subset=[\"page_type\"])\n",
    "\n",
    "\n",
    "def randomize(df):\n",
    "    \"\"\"This is a function to randomize the page, landing & exit dataframe, due to confidential issue in iPrice data to public\"\"\"\n",
    "    df_sample = df.sample(frac=RANDOM_LEVEL, random_state=SEED)\n",
    "    size = len(df_sample)\n",
    "    np.random.seed(SEED)\n",
    "    percent = np.random.uniform(-RANDOM_LEVEL, RANDOM_LEVEL, size)\n",
    "    value = df_sample[\"Pageviews\"] * (1 + percent)\n",
    "    replace = np.absolute(np.around(value)).astype(int)\n",
    "    df.loc[replace.index, \"Pageviews\"] = replace\n",
    "    return df"
   ]
  },
  {
   "cell_type": "markdown",
   "metadata": {},
   "source": [
    "## Read Raw Data"
   ]
  },
  {
   "cell_type": "code",
   "execution_count": 4,
   "metadata": {},
   "outputs": [],
   "source": [
    "page = pd.read_excel(\"data/raw.xlsx\", sheet_name=\"previousPage\")\n",
    "landing = pd.read_excel(\"data/raw.xlsx\", sheet_name=\"landing\")\n",
    "exit = pd.read_excel(\"data/raw.xlsx\", sheet_name=\"exit\")"
   ]
  },
  {
   "cell_type": "markdown",
   "metadata": {},
   "source": [
    "## Cleaning page Dataframe"
   ]
  },
  {
   "cell_type": "code",
   "execution_count": 5,
   "metadata": {},
   "outputs": [],
   "source": [
    "if DEBUG:\n",
    "    page = page.sample(10, random_state=SEED)\n",
    "else:\n",
    "    page = randomize(page)\n",
    "page = page[page[\"Previous Page Path\"] != \"(entrance)\"]\\\n",
    "    .assign(\n",
    "        page_type=lambda df: df[\"Page\"].map(lambda pg: classify(pg))\n",
    ").assign(\n",
    "        previous_page_type=lambda df: df[\"Previous Page Path\"].map(\n",
    "            lambda pg: classify(pg))\n",
    ").iloc[:, [4, 3, 2]]\n",
    "\n",
    "page[\"Pageviews\"] = page\\\n",
    "    .groupby([\"page_type\", \"previous_page_type\"])[\"Pageviews\"]\\\n",
    "    .transform(\"sum\")\n",
    "page_type = page.drop_duplicates(subset=[\"page_type\", \"previous_page_type\"])"
   ]
  },
  {
   "cell_type": "markdown",
   "metadata": {},
   "source": [
    "## Cleaning landing & exit Dataframe"
   ]
  },
  {
   "cell_type": "code",
   "execution_count": 6,
   "metadata": {},
   "outputs": [],
   "source": [
    "landing_type = clean(landing, \"landing\")\\\n",
    "    .assign(previous_page_type=\"Start\")\\\n",
    "    .iloc[:, [2, 0, 1]]\n",
    "exit_type = clean(exit, \"exit\")\\\n",
    "    .assign(previous_page_type=lambda df: df[\"page_type\"])\\\n",
    "    .assign(page_type=\"End\")\\\n",
    "    .iloc[:, [2, 0, 1]]"
   ]
  },
  {
   "cell_type": "markdown",
   "metadata": {},
   "source": [
    "## Transition Matrix in Pandas"
   ]
  },
  {
   "cell_type": "code",
   "execution_count": 7,
   "metadata": {},
   "outputs": [
    {
     "name": "stdout",
     "output_type": "stream",
     "text": [
      "page_type           Start  Checkout Page      PDP       PLP  Search Page  \\\n",
      "previous_page_type                                                         \n",
      "Start                   0          42996  5789152  12529655      3126393   \n",
      "Checkout Page           0         108943   461754     89278        75979   \n",
      "PDP                     0         564483  5405731   1773164       216972   \n",
      "PLP                     0          74802  2132129   4357494         3777   \n",
      "Search Page             0          81088   284087     11866      1350673   \n",
      "End                     0              0        0         0            0   \n",
      "\n",
      "page_type                End  \n",
      "previous_page_type            \n",
      "Start                      0  \n",
      "Checkout Page         623973  \n",
      "PDP                  8521594  \n",
      "PLP                  9175992  \n",
      "Search Page          2581942  \n",
      "End                 59383917  \n"
     ]
    }
   ],
   "source": [
    "transition_matrix = page_type\\\n",
    "    .append(landing_type)\\\n",
    "    .append(exit_type)\\\n",
    "    .pivot(index=\"previous_page_type\", columns=\"page_type\", values=\"Pageviews\")\\\n",
    "    .fillna(0)\\\n",
    "    .astype(int)\n",
    "\n",
    "transition_matrix = transition_matrix\\\n",
    "    .append(pd.Series(0, index=transition_matrix.columns, name=\"End\"))\\\n",
    "    .assign(Start=0)\n",
    "\n",
    "transition_matrix.loc[\"End\", \"End\"] = transition_matrix.to_numpy().sum()\n",
    "\n",
    "order = [\"Start\", \"Checkout Page\", \"PDP\", \"PLP\", \"Search Page\", \"End\"]\n",
    "transition_matrix = transition_matrix\\\n",
    "    .reindex(order, axis=0)\\\n",
    "    .reindex(order, axis=1)\n",
    "\n",
    "print(transition_matrix)\n",
    "\n",
    "if not DEBUG:\n",
    "    transition_matrix.to_csv(\"result/transition_matrix.csv\")"
   ]
  },
  {
   "cell_type": "markdown",
   "metadata": {},
   "source": [
    "## transition matrix, *P*"
   ]
  },
  {
   "cell_type": "code",
   "execution_count": 8,
   "metadata": {},
   "outputs": [
    {
     "name": "stdout",
     "output_type": "stream",
     "text": [
      "P = \n",
      "[[0.         0.00200091 0.2694108  0.58309478 0.14549351 0.        ]\n",
      " [0.         0.08010945 0.33954323 0.06564911 0.05586991 0.4588283 ]\n",
      " [0.         0.03424857 0.32797897 0.10758221 0.01316422 0.51702603]\n",
      " [0.         0.00475108 0.13542319 0.27676831 0.0002399  0.58281751]\n",
      " [0.         0.01881542 0.06591872 0.00275335 0.31340622 0.59910629]\n",
      " [0.         0.         0.         0.         0.         1.        ]]\n"
     ]
    }
   ],
   "source": [
    "# np_matrix = pd.read_csv(\"result/transition_matrix.csv\").iloc[:, 1:].to_numpy()\n",
    "np_matrix = transition_matrix.to_numpy()\n",
    "\n",
    "row_sum = np.sum(np_matrix, axis=1)\n",
    "\n",
    "P = np_matrix / row_sum[:, None]\n",
    "print(\"P = \\n{}\".format(P))"
   ]
  },
  {
   "cell_type": "markdown",
   "metadata": {},
   "source": [
    "Canonical Form"
   ]
  },
  {
   "cell_type": "code",
   "execution_count": 9,
   "metadata": {},
   "outputs": [
    {
     "name": "stdout",
     "output_type": "stream",
     "text": [
      "Q = \n",
      "[[0.         0.00200091 0.2694108  0.58309478 0.14549351]\n",
      " [0.         0.08010945 0.33954323 0.06564911 0.05586991]\n",
      " [0.         0.03424857 0.32797897 0.10758221 0.01316422]\n",
      " [0.         0.00475108 0.13542319 0.27676831 0.0002399 ]\n",
      " [0.         0.01881542 0.06591872 0.00275335 0.31340622]] \n",
      "R = [0.         0.4588283  0.51702603 0.58281751 0.59910629]\n"
     ]
    }
   ],
   "source": [
    "Q = P[:5, :5]\n",
    "R = P[:5, 5]\n",
    "print(\"Q = \\n{} \\nR = {}\".format(Q,R))"
   ]
  },
  {
   "cell_type": "markdown",
   "metadata": {},
   "source": [
    "## Fundamental matrix, *N = (I - Q) ^ -1*"
   ]
  },
  {
   "cell_type": "code",
   "execution_count": 10,
   "metadata": {},
   "outputs": [
    {
     "name": "stdout",
     "output_type": "stream",
     "text": [
      "N = \n",
      "[[1.         0.0346616  0.62261506 0.90286081 0.22697975]\n",
      " [0.         1.11292469 0.61110659 0.19231529 0.10234564]\n",
      " [0.         0.06041443 1.57021784 0.23919074 0.03510581]\n",
      " [0.         0.01863558 0.29808954 1.42874523 0.00773097]\n",
      " [0.         0.03637362 0.16869614 0.03396401 1.46267141]]\n"
     ]
    }
   ],
   "source": [
    "I = np.identity(len(Q))\n",
    "N = np.linalg.inv(I - Q)\n",
    "\n",
    "print(\"N = \\n{}\".format(N))"
   ]
  },
  {
   "cell_type": "markdown",
   "metadata": {},
   "source": [
    "## Expected Number of time, *t = N \\* 1*"
   ]
  },
  {
   "cell_type": "code",
   "execution_count": 11,
   "metadata": {},
   "outputs": [
    {
     "name": "stdout",
     "output_type": "stream",
     "text": [
      "t = [2.78711722 2.01869222 1.90492881 1.75320132 1.70170518]\n"
     ]
    }
   ],
   "source": [
    "t = np.sum(N, axis=1)\n",
    "\n",
    "print(\"t = {}\".format(t))"
   ]
  }
 ],
 "metadata": {
  "file_extension": ".py",
  "kernelspec": {
   "display_name": "Python 3",
   "language": "python",
   "name": "python3"
  },
  "language_info": {
   "codemirror_mode": {
    "name": "ipython",
    "version": 3
   },
   "file_extension": ".py",
   "mimetype": "text/x-python",
   "name": "python",
   "nbconvert_exporter": "python",
   "pygments_lexer": "ipython3",
   "version": "3.7.4"
  },
  "mimetype": "text/x-python",
  "name": "python",
  "npconvert_exporter": "python",
  "pygments_lexer": "ipython3",
  "version": 3
 },
 "nbformat": 4,
 "nbformat_minor": 2
}
